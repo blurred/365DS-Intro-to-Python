{
 "cells": [
  {
   "cell_type": "code",
   "execution_count": 1,
   "id": "39532f21",
   "metadata": {},
   "outputs": [],
   "source": [
    "## Definition"
   ]
  },
  {
   "cell_type": "code",
   "execution_count": 2,
   "id": "c932e648",
   "metadata": {},
   "outputs": [],
   "source": [
    "def simple():\n",
    "    print(\"My first function\")"
   ]
  },
  {
   "cell_type": "code",
   "execution_count": 3,
   "id": "635aa35f",
   "metadata": {},
   "outputs": [
    {
     "name": "stdout",
     "output_type": "stream",
     "text": [
      "My first function\n"
     ]
    }
   ],
   "source": [
    "simple()"
   ]
  },
  {
   "cell_type": "code",
   "execution_count": 4,
   "id": "856896d1",
   "metadata": {},
   "outputs": [],
   "source": [
    "## with parameter"
   ]
  },
  {
   "cell_type": "code",
   "execution_count": 5,
   "id": "f57fd625",
   "metadata": {},
   "outputs": [
    {
     "data": {
      "text/plain": [
       "33"
      ]
     },
     "execution_count": 5,
     "metadata": {},
     "output_type": "execute_result"
    }
   ],
   "source": [
    "def plus_ten(a):\n",
    "    return a + 10\n",
    "plus_ten(23)"
   ]
  },
  {
   "cell_type": "code",
   "execution_count": 6,
   "id": "09e774e1",
   "metadata": {},
   "outputs": [
    {
     "data": {
      "text/plain": [
       "15"
      ]
     },
     "execution_count": 6,
     "metadata": {},
     "output_type": "execute_result"
    }
   ],
   "source": [
    "plus_ten(5)"
   ]
  },
  {
   "cell_type": "code",
   "execution_count": 7,
   "id": "f8a74d13",
   "metadata": {},
   "outputs": [],
   "source": [
    "## another way to define a function"
   ]
  },
  {
   "cell_type": "code",
   "execution_count": 8,
   "id": "c1f58b0d",
   "metadata": {},
   "outputs": [],
   "source": [
    "def plus_ten(a):\n",
    "    result = a + 10\n",
    "    return result"
   ]
  },
  {
   "cell_type": "code",
   "execution_count": 9,
   "id": "035cd8fd",
   "metadata": {},
   "outputs": [
    {
     "data": {
      "text/plain": [
       "12"
      ]
     },
     "execution_count": 9,
     "metadata": {},
     "output_type": "execute_result"
    }
   ],
   "source": [
    "plus_ten(2)"
   ]
  },
  {
   "cell_type": "code",
   "execution_count": 10,
   "id": "c96bcba8",
   "metadata": {},
   "outputs": [],
   "source": [
    "## function in another function"
   ]
  },
  {
   "cell_type": "code",
   "execution_count": 13,
   "id": "da582a11",
   "metadata": {},
   "outputs": [],
   "source": [
    "def wage(w_hours):\n",
    "    return w_hours * 25\n",
    "\n",
    "def with_bonus(w_hours):\n",
    "    return wage(w_hours + 50)"
   ]
  },
  {
   "cell_type": "code",
   "execution_count": 14,
   "id": "7e5cc26b",
   "metadata": {},
   "outputs": [
    {
     "data": {
      "text/plain": [
       "(200, 1450)"
      ]
     },
     "execution_count": 14,
     "metadata": {},
     "output_type": "execute_result"
    }
   ],
   "source": [
    "wage(8), with_bonus(8)"
   ]
  },
  {
   "cell_type": "code",
   "execution_count": 15,
   "id": "bfccdbff",
   "metadata": {},
   "outputs": [],
   "source": [
    "## combining conditional statements and functions"
   ]
  },
  {
   "cell_type": "code",
   "execution_count": 16,
   "id": "5fed90a2",
   "metadata": {},
   "outputs": [
    {
     "data": {
      "text/plain": [
       "120"
      ]
     },
     "execution_count": 16,
     "metadata": {},
     "output_type": "execute_result"
    }
   ],
   "source": [
    "def add_10(m):\n",
    "    if m >= 100:\n",
    "        m += 10\n",
    "        return m\n",
    "    else:\n",
    "        return \"Save more\"\n",
    "add_10(110)"
   ]
  },
  {
   "cell_type": "code",
   "execution_count": 17,
   "id": "a99c02c1",
   "metadata": {},
   "outputs": [
    {
     "data": {
      "text/plain": [
       "'Save more'"
      ]
     },
     "execution_count": 17,
     "metadata": {},
     "output_type": "execute_result"
    }
   ],
   "source": [
    "add_10(50)"
   ]
  },
  {
   "cell_type": "code",
   "execution_count": 18,
   "id": "13896f31",
   "metadata": {},
   "outputs": [],
   "source": [
    "## Creating Functions containing a few arguments"
   ]
  },
  {
   "cell_type": "code",
   "execution_count": 21,
   "id": "c207b2af",
   "metadata": {},
   "outputs": [],
   "source": [
    "def subtract_bc(a,b,c):\n",
    "    result = a - b * c\n",
    "    print('Parameter a equals ', a)\n",
    "    print('Parameter b equals ',b)\n",
    "    print('Parameter b equals ',c)\n",
    "    return result"
   ]
  },
  {
   "cell_type": "code",
   "execution_count": 22,
   "id": "142e0715",
   "metadata": {},
   "outputs": [
    {
     "name": "stdout",
     "output_type": "stream",
     "text": [
      "Parameter a equals  10\n",
      "Parameter b equals  3\n",
      "Parameter b equals  2\n"
     ]
    },
    {
     "data": {
      "text/plain": [
       "4"
      ]
     },
     "execution_count": 22,
     "metadata": {},
     "output_type": "execute_result"
    }
   ],
   "source": [
    "subtract_bc(10,3,2)"
   ]
  },
  {
   "cell_type": "code",
   "execution_count": 23,
   "id": "5cfbef0f",
   "metadata": {},
   "outputs": [],
   "source": [
    "## Notable built-in functions in python"
   ]
  },
  {
   "cell_type": "code",
   "execution_count": 24,
   "id": "9499a948",
   "metadata": {},
   "outputs": [
    {
     "data": {
      "text/plain": [
       "int"
      ]
     },
     "execution_count": 24,
     "metadata": {},
     "output_type": "execute_result"
    }
   ],
   "source": [
    "type(10)"
   ]
  },
  {
   "cell_type": "code",
   "execution_count": 25,
   "id": "79657361",
   "metadata": {},
   "outputs": [
    {
     "data": {
      "text/plain": [
       "5"
      ]
     },
     "execution_count": 25,
     "metadata": {},
     "output_type": "execute_result"
    }
   ],
   "source": [
    "int(5.0)"
   ]
  },
  {
   "cell_type": "code",
   "execution_count": 26,
   "id": "749e7df8",
   "metadata": {},
   "outputs": [
    {
     "data": {
      "text/plain": [
       "3.0"
      ]
     },
     "execution_count": 26,
     "metadata": {},
     "output_type": "execute_result"
    }
   ],
   "source": [
    "float(3)"
   ]
  },
  {
   "cell_type": "code",
   "execution_count": 27,
   "id": "00f2c173",
   "metadata": {},
   "outputs": [
    {
     "data": {
      "text/plain": [
       "'500'"
      ]
     },
     "execution_count": 27,
     "metadata": {},
     "output_type": "execute_result"
    }
   ],
   "source": [
    "str(500)"
   ]
  },
  {
   "cell_type": "code",
   "execution_count": 28,
   "id": "e2f9873e",
   "metadata": {},
   "outputs": [
    {
     "data": {
      "text/plain": [
       "30"
      ]
     },
     "execution_count": 28,
     "metadata": {},
     "output_type": "execute_result"
    }
   ],
   "source": [
    "max(10,20,30)"
   ]
  },
  {
   "cell_type": "code",
   "execution_count": 29,
   "id": "2169743b",
   "metadata": {},
   "outputs": [
    {
     "data": {
      "text/plain": [
       "10"
      ]
     },
     "execution_count": 29,
     "metadata": {},
     "output_type": "execute_result"
    }
   ],
   "source": [
    "min(10,20,30)"
   ]
  },
  {
   "cell_type": "code",
   "execution_count": 30,
   "id": "a18e24bd",
   "metadata": {},
   "outputs": [
    {
     "data": {
      "text/plain": [
       "20"
      ]
     },
     "execution_count": 30,
     "metadata": {},
     "output_type": "execute_result"
    }
   ],
   "source": [
    "z = -20\n",
    "abs(z)"
   ]
  },
  {
   "cell_type": "code",
   "execution_count": 31,
   "id": "e5f0ce8d",
   "metadata": {},
   "outputs": [],
   "source": [
    "list_1 = [1,2,3,4]"
   ]
  },
  {
   "cell_type": "code",
   "execution_count": 32,
   "id": "c1493049",
   "metadata": {},
   "outputs": [
    {
     "data": {
      "text/plain": [
       "10"
      ]
     },
     "execution_count": 32,
     "metadata": {},
     "output_type": "execute_result"
    }
   ],
   "source": [
    "sum(list_1)"
   ]
  },
  {
   "cell_type": "code",
   "execution_count": 33,
   "id": "38d076a9",
   "metadata": {},
   "outputs": [
    {
     "data": {
      "text/plain": [
       "3.56"
      ]
     },
     "execution_count": 33,
     "metadata": {},
     "output_type": "execute_result"
    }
   ],
   "source": [
    "round(3.555,2)"
   ]
  },
  {
   "cell_type": "code",
   "execution_count": 35,
   "id": "863e0d25",
   "metadata": {},
   "outputs": [
    {
     "data": {
      "text/plain": [
       "3"
      ]
     },
     "execution_count": 35,
     "metadata": {},
     "output_type": "execute_result"
    }
   ],
   "source": [
    "round(3.2)"
   ]
  },
  {
   "cell_type": "code",
   "execution_count": 36,
   "id": "f4671dd9",
   "metadata": {},
   "outputs": [
    {
     "data": {
      "text/plain": [
       "1024"
      ]
     },
     "execution_count": 36,
     "metadata": {},
     "output_type": "execute_result"
    }
   ],
   "source": [
    "2 ** 10"
   ]
  },
  {
   "cell_type": "code",
   "execution_count": 38,
   "id": "2d1a68a6",
   "metadata": {},
   "outputs": [
    {
     "data": {
      "text/plain": [
       "1024"
      ]
     },
     "execution_count": 38,
     "metadata": {},
     "output_type": "execute_result"
    }
   ],
   "source": [
    "pow(2,10)"
   ]
  },
  {
   "cell_type": "code",
   "execution_count": 39,
   "id": "9b188694",
   "metadata": {},
   "outputs": [
    {
     "data": {
      "text/plain": [
       "11"
      ]
     },
     "execution_count": 39,
     "metadata": {},
     "output_type": "execute_result"
    }
   ],
   "source": [
    "len('Mathematics')"
   ]
  },
  {
   "cell_type": "code",
   "execution_count": null,
   "id": "2fdfa23d",
   "metadata": {},
   "outputs": [],
   "source": []
  }
 ],
 "metadata": {
  "kernelspec": {
   "display_name": "Python 3 (ipykernel)",
   "language": "python",
   "name": "python3"
  },
  "language_info": {
   "codemirror_mode": {
    "name": "ipython",
    "version": 3
   },
   "file_extension": ".py",
   "mimetype": "text/x-python",
   "name": "python",
   "nbconvert_exporter": "python",
   "pygments_lexer": "ipython3",
   "version": "3.10.8"
  }
 },
 "nbformat": 4,
 "nbformat_minor": 5
}
