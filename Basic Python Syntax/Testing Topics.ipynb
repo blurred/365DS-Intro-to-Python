{
 "cells": [
  {
   "cell_type": "code",
   "execution_count": null,
   "id": "2604c737",
   "metadata": {},
   "outputs": [],
   "source": [
    "# Line Continuation"
   ]
  },
  {
   "cell_type": "code",
   "execution_count": null,
   "id": "9731f5a7",
   "metadata": {},
   "outputs": [],
   "source": [
    "5.5 * 34 + \\\n",
    "3"
   ]
  },
  {
   "cell_type": "code",
   "execution_count": null,
   "id": "1c6c0527",
   "metadata": {},
   "outputs": [],
   "source": [
    "# indexing elements"
   ]
  },
  {
   "cell_type": "code",
   "execution_count": null,
   "id": "a33ae6a2",
   "metadata": {},
   "outputs": [],
   "source": [
    "\"Friday\"[3]"
   ]
  },
  {
   "cell_type": "code",
   "execution_count": null,
   "id": "de035559",
   "metadata": {},
   "outputs": [],
   "source": [
    "# indentation"
   ]
  },
  {
   "cell_type": "code",
   "execution_count": null,
   "id": "cc91da3e",
   "metadata": {},
   "outputs": [],
   "source": [
    "def func(x):\n",
    "    x = 5\n",
    "    return x\n",
    "print(func(3))"
   ]
  },
  {
   "cell_type": "code",
   "execution_count": null,
   "id": "575ba46e",
   "metadata": {},
   "outputs": [],
   "source": [
    "x = 5 + 3\n",
    "print(x)"
   ]
  },
  {
   "cell_type": "code",
   "execution_count": null,
   "id": "410c7974",
   "metadata": {},
   "outputs": [],
   "source": []
  },
  {
   "cell_type": "code",
   "execution_count": null,
   "id": "0298edb6",
   "metadata": {},
   "outputs": [],
   "source": []
  }
 ],
 "metadata": {
  "kernelspec": {
   "display_name": "Python 3 (ipykernel)",
   "language": "python",
   "name": "python3"
  },
  "language_info": {
   "codemirror_mode": {
    "name": "ipython",
    "version": 3
   },
   "file_extension": ".py",
   "mimetype": "text/x-python",
   "name": "python",
   "nbconvert_exporter": "python",
   "pygments_lexer": "ipython3",
   "version": "3.10.8"
  }
 },
 "nbformat": 4,
 "nbformat_minor": 5
}
