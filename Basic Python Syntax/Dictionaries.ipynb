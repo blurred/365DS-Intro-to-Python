{
 "cells": [
  {
   "cell_type": "code",
   "execution_count": 4,
   "id": "4004fcfa",
   "metadata": {},
   "outputs": [],
   "source": [
    "## Dictionaries represent another way of sorting data\n",
    "## key-value pair\n",
    "## use curly braces {}"
   ]
  },
  {
   "cell_type": "code",
   "execution_count": 1,
   "id": "a8472459",
   "metadata": {},
   "outputs": [
    {
     "data": {
      "text/plain": [
       "{'k1': 'cat', 'k2': 'dog', 'k3': 'mouse', 'k4': 'fish'}"
      ]
     },
     "execution_count": 1,
     "metadata": {},
     "output_type": "execute_result"
    }
   ],
   "source": [
    "dict = {'k1':\"cat\", 'k2':\"dog\", 'k3':\"mouse\", 'k4':\"fish\"}\n",
    "dict"
   ]
  },
  {
   "cell_type": "code",
   "execution_count": 5,
   "id": "44ebb8ea",
   "metadata": {},
   "outputs": [
    {
     "data": {
      "text/plain": [
       "'cat'"
      ]
     },
     "execution_count": 5,
     "metadata": {},
     "output_type": "execute_result"
    }
   ],
   "source": [
    "dict['k1']"
   ]
  },
  {
   "cell_type": "code",
   "execution_count": 6,
   "id": "254d84db",
   "metadata": {},
   "outputs": [
    {
     "data": {
      "text/plain": [
       "'mouse'"
      ]
     },
     "execution_count": 6,
     "metadata": {},
     "output_type": "execute_result"
    }
   ],
   "source": [
    "dict['k3']"
   ]
  },
  {
   "cell_type": "code",
   "execution_count": 7,
   "id": "97690fea",
   "metadata": {},
   "outputs": [
    {
     "data": {
      "text/plain": [
       "{'k1': 'cat', 'k2': 'dog', 'k3': 'mouse', 'k4': 'fish', 'k5': 'parrot'}"
      ]
     },
     "execution_count": 7,
     "metadata": {},
     "output_type": "execute_result"
    }
   ],
   "source": [
    "dict['k5'] = 'parrot'\n",
    "dict"
   ]
  },
  {
   "cell_type": "code",
   "execution_count": 8,
   "id": "8bede0d4",
   "metadata": {},
   "outputs": [
    {
     "data": {
      "text/plain": [
       "{'k1': 'cat', 'k2': 'squirrel', 'k3': 'mouse', 'k4': 'fish', 'k5': 'parrot'}"
      ]
     },
     "execution_count": 8,
     "metadata": {},
     "output_type": "execute_result"
    }
   ],
   "source": [
    "dict['k2'] = 'squirrel'\n",
    "dict"
   ]
  },
  {
   "cell_type": "code",
   "execution_count": 9,
   "id": "39a583e6",
   "metadata": {},
   "outputs": [
    {
     "data": {
      "text/plain": [
       "['Jennifer', 'Michael', 'Tommy']"
      ]
     },
     "execution_count": 9,
     "metadata": {},
     "output_type": "execute_result"
    }
   ],
   "source": [
    "dep_workers = {'dep_1':'Peter', 'dep_2':['Jennifer', 'Michael', 'Tommy']}\n",
    "dep_workers['dep_2']"
   ]
  },
  {
   "cell_type": "code",
   "execution_count": 10,
   "id": "4c0848f0",
   "metadata": {},
   "outputs": [],
   "source": [
    "## Variable empty"
   ]
  },
  {
   "cell_type": "code",
   "execution_count": 13,
   "id": "bd029131",
   "metadata": {},
   "outputs": [
    {
     "name": "stdout",
     "output_type": "stream",
     "text": [
      "{'Point Guard': 'Dirk', 'Shooting Guard': 'Al', 'Small Forward': 'Sean', 'Power Forward': 'Alex', 'Center': 'Hector'}\n"
     ]
    }
   ],
   "source": [
    "Team = {}\n",
    "Team['Point Guard'] = 'Dirk'\n",
    "Team['Shooting Guard'] = 'Al'\n",
    "Team['Small Forward'] = 'Sean'\n",
    "Team['Power Forward'] = 'Alex'\n",
    "Team['Center'] = 'Hector'\n",
    "\n",
    "print(Team)"
   ]
  },
  {
   "cell_type": "code",
   "execution_count": 12,
   "id": "c8c30a68",
   "metadata": {},
   "outputs": [
    {
     "name": "stdout",
     "output_type": "stream",
     "text": [
      "Hector\n"
     ]
    }
   ],
   "source": [
    "print(Team['Center'])"
   ]
  },
  {
   "cell_type": "code",
   "execution_count": 14,
   "id": "9523dfd5",
   "metadata": {},
   "outputs": [
    {
     "name": "stdout",
     "output_type": "stream",
     "text": [
      "Sean\n"
     ]
    }
   ],
   "source": [
    "print(Team.get('Small Forward'))"
   ]
  },
  {
   "cell_type": "code",
   "execution_count": 15,
   "id": "0fb6ff7b",
   "metadata": {},
   "outputs": [
    {
     "name": "stdout",
     "output_type": "stream",
     "text": [
      "None\n"
     ]
    }
   ],
   "source": [
    "print(Team.get('Coach'))"
   ]
  },
  {
   "cell_type": "code",
   "execution_count": 16,
   "id": "185ed5be",
   "metadata": {},
   "outputs": [
    {
     "data": {
      "text/plain": [
       "False"
      ]
     },
     "execution_count": 16,
     "metadata": {},
     "output_type": "execute_result"
    }
   ],
   "source": [
    "False and True or not True"
   ]
  },
  {
   "cell_type": "code",
   "execution_count": null,
   "id": "d97e96b8",
   "metadata": {},
   "outputs": [],
   "source": []
  }
 ],
 "metadata": {
  "kernelspec": {
   "display_name": "Python 3 (ipykernel)",
   "language": "python",
   "name": "python3"
  },
  "language_info": {
   "codemirror_mode": {
    "name": "ipython",
    "version": 3
   },
   "file_extension": ".py",
   "mimetype": "text/x-python",
   "name": "python",
   "nbconvert_exporter": "python",
   "pygments_lexer": "ipython3",
   "version": "3.10.8"
  }
 },
 "nbformat": 4,
 "nbformat_minor": 5
}
